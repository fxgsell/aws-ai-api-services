{
 "cells": [
  {
   "cell_type": "code",
   "execution_count": 36,
   "metadata": {
    "slideshow": {
     "slide_type": "skip"
    }
   },
   "outputs": [],
   "source": [
    "import IPython.display as ipd\n",
    "import json"
   ]
  },
  {
   "cell_type": "markdown",
   "metadata": {
    "nbpresent": {
     "id": "3bb5c0d9-e78f-492d-a352-dbebdf2e6a50"
    },
    "slideshow": {
     "slide_type": "slide"
    }
   },
   "source": [
    "# An overview in pratice of AWS's application services for machine learning\n",
    "\n",
    "This notebook demonstrates how to use AWS's application services for machine learning tasks like image and text analysis. "
   ]
  },
  {
   "cell_type": "markdown",
   "metadata": {
    "nbpresent": {
     "id": "1b3d816d-3148-44ba-9fec-85fb55d9d1cc"
    },
    "slideshow": {
     "slide_type": "slide"
    }
   },
   "source": [
    "## Initialization\n",
    "For this demo, I've prepared images that are hosted on Amazon S3. I also need to initilize the SDK for the different services we're going to use."
   ]
  },
  {
   "cell_type": "code",
   "execution_count": null,
   "metadata": {
    "slideshow": {
     "slide_type": "fragment"
    }
   },
   "outputs": [],
   "source": [
    "import boto3\n",
    "\n",
    "aws_region = \"us-east-1\"\n",
    "s3_bucket = \"fx-public-samples\"\n",
    "\n",
    "sample_scene = \"images/jakarta_skyline.jpg\"\n",
    "sample_meme = \"images/meme-5.jpg\"\n",
    "\n",
    "rekognition = boto3.client('rekognition', region_name=aws_region)\n",
    "translate = boto3.client('translate', region_name=aws_region)\n",
    "comprehend = boto3.client('comprehend', region_name=aws_region)\n",
    "polly = boto3.client('polly')"
   ]
  },
  {
   "cell_type": "markdown",
   "metadata": {
    "nbpresent": {
     "id": "ca69a3de-59f3-4109-af0f-b683d88ce393"
    },
    "slideshow": {
     "slide_type": "slide"
    }
   },
   "source": [
    "# A basic exemple of image analysis\n",
    "\n",
    "![alt text](https://s3.amazonaws.com/fx-public-samples/images/jakarta_skyline.jpg \"Logo Title Text 1\")"
   ]
  },
  {
   "cell_type": "markdown",
   "metadata": {
    "slideshow": {
     "slide_type": "slide"
    }
   },
   "source": [
    "# Object and scene detection"
   ]
  },
  {
   "cell_type": "code",
   "execution_count": null,
   "metadata": {
    "nbpresent": {
     "id": "3624335a-3943-4f29-b76a-2dd104316011"
    },
    "slideshow": {
     "slide_type": "fragment"
    }
   },
   "outputs": [],
   "source": [
    "def rekognitionLabel(bucket, key, confidence=70):\n",
    "    response = rekognition.detect_labels(Image={\n",
    "        'S3Object': {\n",
    "            'Bucket': bucket,\n",
    "            'Name': key,\n",
    "            }\n",
    "        },\n",
    "        MinConfidence=confidence\n",
    "    )\n",
    "    return response"
   ]
  },
  {
   "cell_type": "code",
   "execution_count": null,
   "metadata": {
    "nbpresent": {
     "id": "53061daf-70f3-4875-b191-00eca212ec00"
    },
    "slideshow": {
     "slide_type": "slide"
    }
   },
   "outputs": [],
   "source": [
    "response = rekognitionLabel(s3_bucket, sample_scene, 95)\n",
    "print(json.dumps(response[\"Labels\"], indent=4, sort_keys=True))"
   ]
  },
  {
   "cell_type": "markdown",
   "metadata": {
    "slideshow": {
     "slide_type": "slide"
    }
   },
   "source": [
    "# A more complexe exemple"
   ]
  },
  {
   "cell_type": "markdown",
   "metadata": {
    "nbpresent": {
     "id": "9f8bed5c-4a18-46ce-8419-d90b1a60a781"
    },
    "slideshow": {
     "slide_type": "slide"
    }
   },
   "source": [
    "![alt text](https://s3.amazonaws.com/fx-public-samples/images/meme-5.jpg \"Logo Title Text 1\")"
   ]
  },
  {
   "cell_type": "markdown",
   "metadata": {
    "nbpresent": {
     "id": "ce419064-268f-4537-8652-0ebe97501569"
    },
    "slideshow": {
     "slide_type": "slide"
    }
   },
   "source": [
    "## Celebrity Detection"
   ]
  },
  {
   "cell_type": "code",
   "execution_count": null,
   "metadata": {
    "nbpresent": {
     "id": "3f08a2e0-cfae-42bf-81be-6a8ba93890e0"
    },
    "slideshow": {
     "slide_type": "fragment"
    }
   },
   "outputs": [],
   "source": [
    "def rekognitionCelebrity(bucket, key):\n",
    "    response = rekognition.recognize_celebrities(Image={\n",
    "        'S3Object': {\n",
    "            'Bucket': bucket,\n",
    "            'Name': key,\n",
    "            }\n",
    "        }\n",
    "    )\n",
    "    return response"
   ]
  },
  {
   "cell_type": "code",
   "execution_count": null,
   "metadata": {
    "nbpresent": {
     "id": "34101e62-387d-419f-a6e6-a0ccbdf341eb"
    },
    "slideshow": {
     "slide_type": "fragment"
    }
   },
   "outputs": [],
   "source": [
    "response = rekognitionCelebrity(s3_bucket, sample_meme)\n",
    "\n",
    "celebrities = [k[\"Name\"] for k in response[\"CelebrityFaces\"]]\n",
    "print(\"Response: \" + json.dumps(celebrities, indent=4, sort_keys=True))"
   ]
  },
  {
   "cell_type": "markdown",
   "metadata": {
    "nbpresent": {
     "id": "5bf6801e-1d45-4d5e-8c91-e4b3e74daa11"
    },
    "slideshow": {
     "slide_type": "slide"
    }
   },
   "source": [
    "## Text in image"
   ]
  },
  {
   "cell_type": "code",
   "execution_count": null,
   "metadata": {
    "nbpresent": {
     "id": "39681d6c-f985-404c-94e0-6432fe79a3c0"
    },
    "slideshow": {
     "slide_type": "fragment"
    }
   },
   "outputs": [],
   "source": [
    "def rekognitionText(bucket, key):\n",
    "    response = rekognition.detect_text(Image={\n",
    "        'S3Object': {\n",
    "            'Bucket': bucket,\n",
    "            'Name': key,\n",
    "            }\n",
    "        }\n",
    "    )\n",
    "    return response"
   ]
  },
  {
   "cell_type": "code",
   "execution_count": null,
   "metadata": {
    "nbpresent": {
     "id": "e9f1604e-d386-4e84-85e1-c4c43fadeb95"
    },
    "slideshow": {
     "slide_type": "fragment"
    }
   },
   "outputs": [],
   "source": [
    "response = rekognitionText(s3_bucket, sample_meme)\n",
    "\n",
    "lines = [k[\"DetectedText\"] for k in response[\"TextDetections\"] if k['Type'] == 'LINE']\n",
    "print(\"Number of lines: {}\".format(len(lines)))\n",
    "\n",
    "text = \" \".join(lines)\n",
    "print(\"Response: \" + text)"
   ]
  },
  {
   "cell_type": "markdown",
   "metadata": {
    "nbpresent": {
     "id": "44b87ed3-303c-4f7e-876d-c012bcf2c344"
    },
    "slideshow": {
     "slide_type": "slide"
    }
   },
   "source": [
    "# Working with text"
   ]
  },
  {
   "cell_type": "markdown",
   "metadata": {
    "nbpresent": {
     "id": "146cbb52-6a23-423e-a648-6b2f70a0bea4"
    },
    "slideshow": {
     "slide_type": "subslide"
    }
   },
   "source": [
    "Let's use Amazon Comprehend our natural language processing (NLP) service that uses machine learning to find insights and relationships in text."
   ]
  },
  {
   "cell_type": "markdown",
   "metadata": {
    "nbpresent": {
     "id": "946edcf0-c55a-457d-9dfe-24b26f904e67"
    },
    "slideshow": {
     "slide_type": "slide"
    }
   },
   "source": [
    "## Language Detection\n",
    "The Language Detection API automatically identifies text written in over 100 languages and returns the dominant language with a confidence score to support that a language is dominant."
   ]
  },
  {
   "cell_type": "code",
   "execution_count": null,
   "metadata": {
    "nbpresent": {
     "id": "d70cc394-2b15-47ce-acc8-b897c443d29f"
    },
    "slideshow": {
     "slide_type": "fragment"
    }
   },
   "outputs": [],
   "source": [
    "language = comprehend.detect_dominant_language(\n",
    "    Text=text\n",
    ")\n",
    "print(\"Language: \" + json.dumps(language['Languages'][0]))\n",
    "language_code = language['Languages'][0]['LanguageCode']"
   ]
  },
  {
   "cell_type": "markdown",
   "metadata": {
    "nbpresent": {
     "id": "66680a26-bfef-4c13-9c3b-d3cf57fba58b"
    },
    "slideshow": {
     "slide_type": "slide"
    }
   },
   "source": [
    "## Sentiment Detection\n",
    "\n",
    "The Sentiment Analysis API returns the overall sentiment of a text (Positive, Negative, Neutral, or Mixed)."
   ]
  },
  {
   "cell_type": "code",
   "execution_count": null,
   "metadata": {
    "nbpresent": {
     "id": "d9cee83c-4d3b-4dd4-be3c-949bc5fc3fb1"
    },
    "slideshow": {
     "slide_type": "fragment"
    }
   },
   "outputs": [],
   "source": [
    "sentiment = comprehend.detect_sentiment(\n",
    "    Text=text,\n",
    "    LanguageCode=language_code\n",
    ")\n",
    "\n",
    "print(\"Sentiment: \" + json.dumps(sentiment[\"Sentiment\"], indent=4, sort_keys=True))"
   ]
  },
  {
   "cell_type": "markdown",
   "metadata": {
    "nbpresent": {
     "id": "ec5b4b91-b9c5-45cd-9466-fb8331a4ead0"
    },
    "slideshow": {
     "slide_type": "slide"
    }
   },
   "source": [
    "## Key Phrases Detection\n",
    "\n",
    "The Keyphrase Extraction API returns the key phrases or talking points and a confidence score to support that this is a key phrase."
   ]
  },
  {
   "cell_type": "code",
   "execution_count": null,
   "metadata": {
    "nbpresent": {
     "id": "c8cdfa10-72b8-432e-a224-9035ef033c85"
    },
    "slideshow": {
     "slide_type": "fragment"
    }
   },
   "outputs": [],
   "source": [
    "response = comprehend.detect_key_phrases(\n",
    "    Text=text,\n",
    "    LanguageCode=language_code\n",
    ")\n",
    "key_phrases = [k[\"Text\"] for k in response[\"KeyPhrases\"] ]\n",
    "\n",
    "print(\"Key phrases: \" + json.dumps(key_phrases, indent=4))"
   ]
  },
  {
   "cell_type": "markdown",
   "metadata": {
    "nbpresent": {
     "id": "6bde0cbc-4bf8-40bb-b714-3d31dc5a5a83"
    },
    "slideshow": {
     "slide_type": "slide"
    }
   },
   "source": [
    "## Translation\n",
    "Amazon Translate uses deep learning models to deliver more accurate and more natural sounding translation than traditional statistical and rule-based translation algorithms."
   ]
  },
  {
   "cell_type": "code",
   "execution_count": null,
   "metadata": {
    "nbpresent": {
     "id": "2f0fce3c-319e-4b2a-acf0-bfb73d70ee35"
    },
    "slideshow": {
     "slide_type": "fragment"
    }
   },
   "outputs": [],
   "source": [
    "result = translate.translate_text(Text=text,\n",
    "                                  SourceLanguageCode=language_code,\n",
    "                                  TargetLanguageCode=\"fr\")\n",
    "print(result['TranslatedText'])\n",
    "translated = result['TranslatedText']"
   ]
  },
  {
   "cell_type": "markdown",
   "metadata": {
    "nbpresent": {
     "id": "0d05fb18-6f1e-4e2c-943a-0afe73fdb5e1"
    },
    "slideshow": {
     "slide_type": "slide"
    }
   },
   "source": [
    "## Text-to-speech\n",
    "Amazon Polly is a Text-to-Speech service that uses advanced deep learning technologies to synthesize speech that sounds like a human voice."
   ]
  },
  {
   "cell_type": "code",
   "execution_count": null,
   "metadata": {
    "nbpresent": {
     "id": "5056af5c-f7cd-4e15-9bf7-f335ef85ec69"
    },
    "slideshow": {
     "slide_type": "fragment"
    }
   },
   "outputs": [],
   "source": [
    "response = polly.synthesize_speech(OutputFormat='mp3',\n",
    "                                   Text=text,\n",
    "                                   VoiceId='Matthew')\n",
    "\n",
    "audio = response['AudioStream'].read()\n",
    "ipd.Audio(audio)"
   ]
  },
  {
   "cell_type": "code",
   "execution_count": null,
   "metadata": {},
   "outputs": [],
   "source": [
    "response = polly.synthesize_speech(OutputFormat='mp3',\n",
    "                                   Text=translated,\n",
    "                                   VoiceId='Lea')\n",
    "\n",
    "audio = response['AudioStream'].read()\n",
    "ipd.Audio(audio)"
   ]
  },
  {
   "cell_type": "markdown",
   "metadata": {
    "nbpresent": {
     "id": "326a0ddf-5ad5-4673-8108-91c5368037e4"
    },
    "slideshow": {
     "slide_type": "slide"
    }
   },
   "source": [
    "# Find me on GitHub\n",
    "\n",
    "![alt text](https://s3.amazonaws.com/fx-public-samples/QRCode-AWS-API-Services.png \"Logo Title Text 1\")\n",
    "\n",
    "https://github.com/fxgsell/aws-ai-api-services"
   ]
  }
 ],
 "metadata": {
  "celltoolbar": "Slideshow",
  "kernelspec": {
   "display_name": "Python 2",
   "language": "python",
   "name": "python2"
  },
  "language_info": {
   "codemirror_mode": {
    "name": "ipython",
    "version": 2
   },
   "file_extension": ".py",
   "mimetype": "text/x-python",
   "name": "python",
   "nbconvert_exporter": "python",
   "pygments_lexer": "ipython2",
   "version": "2.7.15"
  }
 },
 "nbformat": 4,
 "nbformat_minor": 2
}
