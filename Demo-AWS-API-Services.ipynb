{
 "cells": [
  {
   "cell_type": "code",
   "execution_count": 1,
   "metadata": {
    "slideshow": {
     "slide_type": "skip"
    }
   },
   "outputs": [],
   "source": [
    "import IPython.display as ipd"
   ]
  },
  {
   "cell_type": "markdown",
   "metadata": {
    "nbpresent": {
     "id": "3bb5c0d9-e78f-492d-a352-dbebdf2e6a50"
    },
    "slideshow": {
     "slide_type": "slide"
    }
   },
   "source": [
    "# An overview in pratice of AWS's application services for machine learning\n",
    "\n",
    "This notebook demonstrates how to use AWS's application services for machine learning tasks like image and text analysis. "
   ]
  },
  {
   "cell_type": "markdown",
   "metadata": {
    "nbpresent": {
     "id": "1b3d816d-3148-44ba-9fec-85fb55d9d1cc"
    },
    "slideshow": {
     "slide_type": "slide"
    }
   },
   "source": [
    "## Initialization\n",
    "For this demo, we've prepared images that are hosted on Amazon S3."
   ]
  },
  {
   "cell_type": "code",
   "execution_count": 2,
   "metadata": {
    "slideshow": {
     "slide_type": "fragment"
    }
   },
   "outputs": [],
   "source": [
    "import boto3\n",
    "import json\n",
    "\n",
    "aws_region = 'us-east-1'\n",
    "s3_bucket = \"fx-public-samples\"\n",
    "\n",
    "sample_scene = \"images/jakarta_skyline.jpg\"\n",
    "sample_meme = \"images/obama_aws_meme.png\"\n",
    "\n",
    "rekognition = boto3.client('rekognition', region_name=aws_region)\n",
    "translate = boto3.client('translate', region_name=aws_region)\n",
    "comprehend = boto3.client('comprehend', region_name=aws_region)\n",
    "polly = boto3.client('polly')\n"
   ]
  },
  {
   "cell_type": "markdown",
   "metadata": {
    "nbpresent": {
     "id": "ca69a3de-59f3-4109-af0f-b683d88ce393"
    },
    "slideshow": {
     "slide_type": "slide"
    }
   },
   "source": [
    "# A basic exemple of image analysis\n",
    "\n",
    "![alt text](https://s3.amazonaws.com/fx-public-samples/images/jakarta_skyline.jpg \"Logo Title Text 1\")"
   ]
  },
  {
   "cell_type": "markdown",
   "metadata": {
    "slideshow": {
     "slide_type": "slide"
    }
   },
   "source": [
    "# Object and scene detection"
   ]
  },
  {
   "cell_type": "code",
   "execution_count": 3,
   "metadata": {
    "nbpresent": {
     "id": "3624335a-3943-4f29-b76a-2dd104316011"
    },
    "slideshow": {
     "slide_type": "fragment"
    }
   },
   "outputs": [],
   "source": [
    "def rekognitionLabel(bucket, key, confidence=70):\n",
    "    response = rekognition.detect_labels(Image={\n",
    "        'S3Object': {\n",
    "            'Bucket': bucket,\n",
    "            'Name': key,\n",
    "            }\n",
    "        },\n",
    "        MinConfidence=confidence\n",
    "    )\n",
    "    return response"
   ]
  },
  {
   "cell_type": "code",
   "execution_count": 4,
   "metadata": {
    "nbpresent": {
     "id": "53061daf-70f3-4875-b191-00eca212ec00"
    },
    "slideshow": {
     "slide_type": "slide"
    }
   },
   "outputs": [
    {
     "name": "stdout",
     "output_type": "stream",
     "text": [
      "[\n",
      "    {\n",
      "        \"Confidence\": 98.32048034667969, \n",
      "        \"Name\": \"Building\"\n",
      "    }, \n",
      "    {\n",
      "        \"Confidence\": 98.32048034667969, \n",
      "        \"Name\": \"City\"\n",
      "    }, \n",
      "    {\n",
      "        \"Confidence\": 98.32048034667969, \n",
      "        \"Name\": \"Town\"\n",
      "    }, \n",
      "    {\n",
      "        \"Confidence\": 98.32048034667969, \n",
      "        \"Name\": \"Urban\"\n",
      "    }\n",
      "]\n"
     ]
    }
   ],
   "source": [
    "response = rekognitionLabel(s3_bucket, sample_scene, 95)\n",
    "print(json.dumps(response[\"Labels\"], indent=4, sort_keys=True))"
   ]
  },
  {
   "cell_type": "markdown",
   "metadata": {
    "nbpresent": {
     "id": "9f8bed5c-4a18-46ce-8419-d90b1a60a781"
    },
    "slideshow": {
     "slide_type": "slide"
    }
   },
   "source": [
    "# A more complexe exemple\n",
    "\n",
    "![alt text](https://s3.amazonaws.com/fx-public-samples/images/obama_aws_meme.png \"Logo Title Text 1\")"
   ]
  },
  {
   "cell_type": "markdown",
   "metadata": {
    "nbpresent": {
     "id": "ce419064-268f-4537-8652-0ebe97501569"
    },
    "slideshow": {
     "slide_type": "slide"
    }
   },
   "source": [
    "## Celebrity Detection"
   ]
  },
  {
   "cell_type": "code",
   "execution_count": 5,
   "metadata": {
    "nbpresent": {
     "id": "3f08a2e0-cfae-42bf-81be-6a8ba93890e0"
    },
    "slideshow": {
     "slide_type": "fragment"
    }
   },
   "outputs": [],
   "source": [
    "def rekognitionCelebrity(bucket, key):\n",
    "    response = rekognition.recognize_celebrities(Image={\n",
    "        'S3Object': {\n",
    "            'Bucket': bucket,\n",
    "            'Name': key,\n",
    "            }\n",
    "        }\n",
    "    )\n",
    "    return response"
   ]
  },
  {
   "cell_type": "code",
   "execution_count": 6,
   "metadata": {
    "nbpresent": {
     "id": "34101e62-387d-419f-a6e6-a0ccbdf341eb"
    },
    "slideshow": {
     "slide_type": "fragment"
    }
   },
   "outputs": [
    {
     "name": "stdout",
     "output_type": "stream",
     "text": [
      "Response: [\n",
      "    \"Madelyn Dunham\"\n",
      "]\n"
     ]
    }
   ],
   "source": [
    "response = rekognitionCelebrity(s3_bucket, sample_meme)\n",
    "\n",
    "celebrities = [k[\"Name\"] for k in response[\"CelebrityFaces\"]]\n",
    "print(\"Response: \" + json.dumps(celebrities, indent=4, sort_keys=True))"
   ]
  },
  {
   "cell_type": "markdown",
   "metadata": {
    "nbpresent": {
     "id": "5bf6801e-1d45-4d5e-8c91-e4b3e74daa11"
    },
    "slideshow": {
     "slide_type": "slide"
    }
   },
   "source": [
    "## Text in image"
   ]
  },
  {
   "cell_type": "code",
   "execution_count": 7,
   "metadata": {
    "nbpresent": {
     "id": "39681d6c-f985-404c-94e0-6432fe79a3c0"
    },
    "slideshow": {
     "slide_type": "fragment"
    }
   },
   "outputs": [],
   "source": [
    "def rekognitionText(bucket, key):\n",
    "    response = rekognition.detect_text(Image={\n",
    "        'S3Object': {\n",
    "            'Bucket': bucket,\n",
    "            'Name': key,\n",
    "            }\n",
    "        }\n",
    "    )\n",
    "    return response"
   ]
  },
  {
   "cell_type": "code",
   "execution_count": 8,
   "metadata": {
    "nbpresent": {
     "id": "e9f1604e-d386-4e84-85e1-c4c43fadeb95"
    },
    "slideshow": {
     "slide_type": "fragment"
    }
   },
   "outputs": [
    {
     "name": "stdout",
     "output_type": "stream",
     "text": [
      "Number of lines: 3\n",
      "Response: I'M PROUD OF YOU THAT MOMENT WHEN YOU DEPLOY YOUR VERY FIRST AWS LAMBDA FUNCTION USING GO\n"
     ]
    }
   ],
   "source": [
    "response = rekognitionText(s3_bucket, sample_meme)\n",
    "\n",
    "lines = [k[\"DetectedText\"] for k in response[\"TextDetections\"] if k['Type'] == 'LINE']\n",
    "print(\"Number of lines: {}\".format(len(lines)))\n",
    "\n",
    "text = \" \".join(lines)\n",
    "print(\"Response: \" + text)"
   ]
  },
  {
   "cell_type": "markdown",
   "metadata": {
    "nbpresent": {
     "id": "44b87ed3-303c-4f7e-876d-c012bcf2c344"
    },
    "slideshow": {
     "slide_type": "slide"
    }
   },
   "source": [
    "# Working with text"
   ]
  },
  {
   "cell_type": "markdown",
   "metadata": {
    "nbpresent": {
     "id": "146cbb52-6a23-423e-a648-6b2f70a0bea4"
    },
    "slideshow": {
     "slide_type": "subslide"
    }
   },
   "source": [
    "Let's use Amazon Comprehend our natural language processing (NLP) service that uses machine learning to find insights and relationships in text."
   ]
  },
  {
   "cell_type": "markdown",
   "metadata": {
    "nbpresent": {
     "id": "946edcf0-c55a-457d-9dfe-24b26f904e67"
    },
    "slideshow": {
     "slide_type": "slide"
    }
   },
   "source": [
    "## Language Detection\n",
    "The Language Detection API automatically identifies text written in over 100 languages and returns the dominant language with a confidence score to support that a language is dominant."
   ]
  },
  {
   "cell_type": "code",
   "execution_count": 9,
   "metadata": {
    "nbpresent": {
     "id": "b6ff4af3-4be1-4b06-a2be-3b4ea20cce28"
    },
    "slideshow": {
     "slide_type": "fragment"
    }
   },
   "outputs": [],
   "source": [
    "def languageDetection(text):\n",
    "    language = comprehend.detect_dominant_language(\n",
    "        Text=text\n",
    "    )['Languages'][0]['LanguageCode']\n",
    "    return language"
   ]
  },
  {
   "cell_type": "code",
   "execution_count": 10,
   "metadata": {
    "nbpresent": {
     "id": "d70cc394-2b15-47ce-acc8-b897c443d29f"
    },
    "slideshow": {
     "slide_type": "fragment"
    }
   },
   "outputs": [
    {
     "name": "stdout",
     "output_type": "stream",
     "text": [
      "Language: en\n"
     ]
    }
   ],
   "source": [
    "language = languageDetection(text)\n",
    "print(\"Language: \" + language)"
   ]
  },
  {
   "cell_type": "markdown",
   "metadata": {
    "nbpresent": {
     "id": "66680a26-bfef-4c13-9c3b-d3cf57fba58b"
    },
    "slideshow": {
     "slide_type": "slide"
    }
   },
   "source": [
    "## Sentiment Detection\n",
    "\n",
    "The Sentiment Analysis API returns the overall sentiment of a text (Positive, Negative, Neutral, or Mixed)."
   ]
  },
  {
   "cell_type": "code",
   "execution_count": 11,
   "metadata": {
    "nbpresent": {
     "id": "eda7b082-f9ef-4573-9369-b6ccdf76233d"
    },
    "slideshow": {
     "slide_type": "fragment"
    }
   },
   "outputs": [],
   "source": [
    "def sentimentDetection(text):\n",
    "    sentiment = comprehend.detect_sentiment(\n",
    "        Text=text,\n",
    "        LanguageCode=language\n",
    "    )\n",
    "    return sentiment"
   ]
  },
  {
   "cell_type": "code",
   "execution_count": 12,
   "metadata": {
    "nbpresent": {
     "id": "d9cee83c-4d3b-4dd4-be3c-949bc5fc3fb1"
    },
    "slideshow": {
     "slide_type": "fragment"
    }
   },
   "outputs": [
    {
     "name": "stdout",
     "output_type": "stream",
     "text": [
      "Sentiment: \"POSITIVE\"\n"
     ]
    }
   ],
   "source": [
    "sentiment = sentimentDetection(text)\n",
    "print(\"Sentiment: \" + json.dumps(sentiment[\"Sentiment\"], indent=4, sort_keys=True))"
   ]
  },
  {
   "cell_type": "markdown",
   "metadata": {
    "nbpresent": {
     "id": "ec5b4b91-b9c5-45cd-9466-fb8331a4ead0"
    },
    "slideshow": {
     "slide_type": "slide"
    }
   },
   "source": [
    "## Key Phrases Detection\n",
    "\n",
    "The Keyphrase Extraction API returns the key phrases or talking points and a confidence score to support that this is a key phrase."
   ]
  },
  {
   "cell_type": "code",
   "execution_count": 13,
   "metadata": {
    "nbpresent": {
     "id": "550e8305-f1d7-4c12-bbc8-5e07c8753cbd"
    },
    "slideshow": {
     "slide_type": "fragment"
    }
   },
   "outputs": [],
   "source": [
    "def keyPhrasesDetection(text):\n",
    "    response = comprehend.detect_key_phrases(\n",
    "        Text=text,\n",
    "        LanguageCode=language\n",
    "    )\n",
    "    key_phrases = [k[\"Text\"] for k in response[\"KeyPhrases\"] ]\n",
    "    return key_phrases"
   ]
  },
  {
   "cell_type": "code",
   "execution_count": 14,
   "metadata": {
    "nbpresent": {
     "id": "c8cdfa10-72b8-432e-a224-9035ef033c85"
    },
    "slideshow": {
     "slide_type": "fragment"
    }
   },
   "outputs": [
    {
     "name": "stdout",
     "output_type": "stream",
     "text": [
      "Key phrases: [\n",
      "    \"PROUD\", \n",
      "    \"THAT MOMENT\", \n",
      "    \"YOUR VERY FIRST AWS LAMBDA FUNCTION\"\n",
      "]\n"
     ]
    }
   ],
   "source": [
    "key_phrases = keyPhrasesDetection(text)\n",
    "print(\"Key phrases: \" + json.dumps(key_phrases, indent=4))"
   ]
  },
  {
   "cell_type": "markdown",
   "metadata": {
    "nbpresent": {
     "id": "6bde0cbc-4bf8-40bb-b714-3d31dc5a5a83"
    },
    "slideshow": {
     "slide_type": "slide"
    }
   },
   "source": [
    "## Translation\n",
    "Amazon Translate uses deep learning models to deliver more accurate and more natural sounding translation than traditional statistical and rule-based translation algorithms."
   ]
  },
  {
   "cell_type": "code",
   "execution_count": 15,
   "metadata": {
    "nbpresent": {
     "id": "2f0fce3c-319e-4b2a-acf0-bfb73d70ee35"
    },
    "slideshow": {
     "slide_type": "fragment"
    }
   },
   "outputs": [
    {
     "name": "stdout",
     "output_type": "stream",
     "text": [
      "JE SUIS FIER DE VOUS CE MOMENT OÙ VOUS DÉPLOYEZ VOTRE TOUTE PREMIÈRE FONCTION AWS LAMBDA À L'AIDE DE GO\n"
     ]
    }
   ],
   "source": [
    "result = translate.translate_text(Text=text,\n",
    "                                  SourceLanguageCode=\"en\",\n",
    "                                  TargetLanguageCode=\"fr\")\n",
    "print(result['TranslatedText'])"
   ]
  },
  {
   "cell_type": "markdown",
   "metadata": {
    "nbpresent": {
     "id": "0d05fb18-6f1e-4e2c-943a-0afe73fdb5e1"
    },
    "slideshow": {
     "slide_type": "slide"
    }
   },
   "source": [
    "## Text-to-speech\n",
    "Amazon Polly is a Text-to-Speech service that uses advanced deep learning technologies to synthesize speech that sounds like a human voice."
   ]
  },
  {
   "cell_type": "code",
   "execution_count": 16,
   "metadata": {
    "nbpresent": {
     "id": "5056af5c-f7cd-4e15-9bf7-f335ef85ec69"
    },
    "slideshow": {
     "slide_type": "fragment"
    }
   },
   "outputs": [],
   "source": [
    "response = polly.synthesize_speech(OutputFormat='mp3',\n",
    "                                   Text=text,\n",
    "                                   VoiceId='Matthew')\n",
    "\n",
    "audio = response['AudioStream'].read()"
   ]
  },
  {
   "cell_type": "code",
   "execution_count": 17,
   "metadata": {
    "nbpresent": {
     "id": "ef370f1f-4481-4570-bbd7-edb909362c2a"
    },
    "slideshow": {
     "slide_type": "fragment"
    }
   },
   "outputs": [
    {
     "data": {
      "text/html": [
       "\n",
       "                <audio controls=\"controls\" >\n",
       "                    <source src=\"data:audio/wav;base64,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\" type=\"audio/wav\" />\n",
       "                    Your browser does not support the audio element.\n",
       "                </audio>\n",
       "              "
      ],
      "text/plain": [
       "<IPython.lib.display.Audio object>"
      ]
     },
     "execution_count": 17,
     "metadata": {},
     "output_type": "execute_result"
    }
   ],
   "source": [
    "ipd.Audio(audio)"
   ]
  },
  {
   "cell_type": "markdown",
   "metadata": {
    "nbpresent": {
     "id": "326a0ddf-5ad5-4673-8108-91c5368037e4"
    },
    "slideshow": {
     "slide_type": "slide"
    }
   },
   "source": [
    "# Find me on GitHub\n",
    "\n",
    "![alt text](https://s3.amazonaws.com/fx-public-samples/QRCode-AWS-API-Services.png \"Logo Title Text 1\")\n",
    "\n",
    "https://github.com/fxgsell/aws-ai-api-services"
   ]
  }
 ],
 "metadata": {
  "celltoolbar": "Slideshow",
  "kernelspec": {
   "display_name": "Python 2",
   "language": "python",
   "name": "python2"
  },
  "language_info": {
   "codemirror_mode": {
    "name": "ipython",
    "version": 2
   },
   "file_extension": ".py",
   "mimetype": "text/x-python",
   "name": "python",
   "nbconvert_exporter": "python",
   "pygments_lexer": "ipython2",
   "version": "2.7.15"
  }
 },
 "nbformat": 4,
 "nbformat_minor": 2
}
