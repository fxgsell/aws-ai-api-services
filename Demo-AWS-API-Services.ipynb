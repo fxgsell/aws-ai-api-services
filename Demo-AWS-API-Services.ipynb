{
 "cells": [
  {
   "cell_type": "code",
   "execution_count": 1,
   "metadata": {
    "nbpresent": {
     "id": "2ebf60d9-be90-437d-8b1e-3d6aa0866c3b"
    },
    "slideshow": {
     "slide_type": "skip"
    }
   },
   "outputs": [],
   "source": [
    "from utils import *"
   ]
  },
  {
   "cell_type": "markdown",
   "metadata": {
    "nbpresent": {
     "id": "3bb5c0d9-e78f-492d-a352-dbebdf2e6a50"
    },
    "slideshow": {
     "slide_type": "slide"
    }
   },
   "source": [
    "# An overview in pratice of AWS's Machine Learning based API services"
   ]
  },
  {
   "cell_type": "markdown",
   "metadata": {
    "nbpresent": {
     "id": "757f152c-6802-484d-b81c-90df9a4e4eda"
    },
    "slideshow": {
     "slide_type": "subslide"
    }
   },
   "source": [
    "This notebook demonstrates how to use Amazon Rekognition to perform image analysis. For this demo, we've prepared an image that hosted at Amazon S3. This image will be our main reference to perform visual analysis."
   ]
  },
  {
   "cell_type": "markdown",
   "metadata": {
    "nbpresent": {
     "id": "1b3d816d-3148-44ba-9fec-85fb55d9d1cc"
    },
    "slideshow": {
     "slide_type": "slide"
    }
   },
   "source": [
    "## Initialization"
   ]
  },
  {
   "cell_type": "code",
   "execution_count": 31,
   "metadata": {
    "nbpresent": {
     "id": "46ebb1b0-a9a3-466d-ae2e-f756b4fb9811"
    },
    "slideshow": {
     "slide_type": "fragment"
    }
   },
   "outputs": [],
   "source": [
    "import boto3\n",
    "import json\n",
    "\n",
    "aws_region = 'us-east-1'\n",
    "s3_bucket = \"fx-public-samples\"\n",
    "\n",
    "sample_scene = \"images/jakarta_skyline.jpg\"\n",
    "sample_meme = \"images/obama_aws_meme.png\"\n",
    "\n",
    "rekognition = boto3.client('rekognition', region_name=aws_region)\n",
    "translate = boto3.client('translate', region_name=aws_region)\n",
    "comprehend = boto3.client('comprehend', region_name=aws_region)\n",
    "polly = boto3.client('polly')\n"
   ]
  },
  {
   "cell_type": "markdown",
   "metadata": {
    "nbpresent": {
     "id": "676b7d4f-6b69-4ed1-81c7-47fdb955e0b3"
    },
    "slideshow": {
     "slide_type": "slide"
    }
   },
   "source": [
    "# Object and scene detection"
   ]
  },
  {
   "cell_type": "markdown",
   "metadata": {
    "nbpresent": {
     "id": "ca69a3de-59f3-4109-af0f-b683d88ce393"
    },
    "slideshow": {
     "slide_type": "fragment"
    }
   },
   "source": [
    "![alt text](https://s3.amazonaws.com/fx-public-samples/images/jakarta_skyline.jpg \"Logo Title Text 1\")"
   ]
  },
  {
   "cell_type": "code",
   "execution_count": 1,
   "metadata": {
    "nbpresent": {
     "id": "3624335a-3943-4f29-b76a-2dd104316011"
    },
    "slideshow": {
     "slide_type": "slide"
    }
   },
   "outputs": [],
   "source": [
    "def rekognitionLabel(bucket, key, confidence=70):\n",
    "    response = rekognition.detect_labels(Image={\n",
    "        'S3Object': {\n",
    "            'Bucket': bucket,\n",
    "            'Name': key,\n",
    "            }\n",
    "        },\n",
    "        MinConfidence=confidence\n",
    "    )\n",
    "    return response"
   ]
  },
  {
   "cell_type": "code",
   "execution_count": 4,
   "metadata": {
    "nbpresent": {
     "id": "53061daf-70f3-4875-b191-00eca212ec00"
    },
    "slideshow": {
     "slide_type": "slide"
    }
   },
   "outputs": [
    {
     "name": "stdout",
     "output_type": "stream",
     "text": [
      "[\n",
      "    {\n",
      "        \"Confidence\": 98.32048034667969,\n",
      "        \"Name\": \"Building\"\n",
      "    },\n",
      "    {\n",
      "        \"Confidence\": 98.32048034667969,\n",
      "        \"Name\": \"City\"\n",
      "    },\n",
      "    {\n",
      "        \"Confidence\": 98.32048034667969,\n",
      "        \"Name\": \"Town\"\n",
      "    },\n",
      "    {\n",
      "        \"Confidence\": 98.32048034667969,\n",
      "        \"Name\": \"Urban\"\n",
      "    }\n",
      "]\n"
     ]
    }
   ],
   "source": [
    "response = rekognitionLabel(s3_bucket, sample_scene, 95)\n",
    "print(json.dumps(response[\"Labels\"], indent=4, sort_keys=True))"
   ]
  },
  {
   "cell_type": "markdown",
   "metadata": {
    "nbpresent": {
     "id": "9f8bed5c-4a18-46ce-8419-d90b1a60a781"
    },
    "slideshow": {
     "slide_type": "slide"
    }
   },
   "source": [
    "# A more complexe exemple\n",
    "\n",
    "![alt text](https://s3.amazonaws.com/fx-public-samples/images/obama_aws_meme.png \"Logo Title Text 1\")"
   ]
  },
  {
   "cell_type": "markdown",
   "metadata": {
    "nbpresent": {
     "id": "ce419064-268f-4537-8652-0ebe97501569"
    },
    "slideshow": {
     "slide_type": "slide"
    }
   },
   "source": [
    "## Celebrity Detection"
   ]
  },
  {
   "cell_type": "code",
   "execution_count": 6,
   "metadata": {
    "nbpresent": {
     "id": "3f08a2e0-cfae-42bf-81be-6a8ba93890e0"
    },
    "slideshow": {
     "slide_type": "skip"
    }
   },
   "outputs": [],
   "source": [
    "def rekognitionCelebrity(bucket, key):\n",
    "    response = rekognition.recognize_celebrities(Image={\n",
    "        'S3Object': {\n",
    "            'Bucket': bucket,\n",
    "            'Name': key,\n",
    "            }\n",
    "        }\n",
    "    )\n",
    "    return response"
   ]
  },
  {
   "cell_type": "code",
   "execution_count": 7,
   "metadata": {
    "nbpresent": {
     "id": "34101e62-387d-419f-a6e6-a0ccbdf341eb"
    },
    "slideshow": {
     "slide_type": "skip"
    }
   },
   "outputs": [
    {
     "name": "stdout",
     "output_type": "stream",
     "text": [
      "Response: [\n",
      "    \"Madelyn Dunham\"\n",
      "]\n"
     ]
    }
   ],
   "source": [
    "response = rekognitionCelebrity(s3_bucket, sample_meme)\n",
    "\n",
    "celebrities = [k[\"Name\"] for k in response[\"CelebrityFaces\"]]\n",
    "print(\"Response: \" + json.dumps(celebrities, indent=4, sort_keys=True))"
   ]
  },
  {
   "cell_type": "markdown",
   "metadata": {
    "nbpresent": {
     "id": "d3ed28cb-ed25-40be-9fe2-2a34667d9d97"
    },
    "slideshow": {
     "slide_type": "skip"
    }
   },
   "source": [
    "## Sentiment Analysis"
   ]
  },
  {
   "cell_type": "code",
   "execution_count": 24,
   "metadata": {
    "nbpresent": {
     "id": "b1d74bb9-f50d-4897-9030-1d6798f2996e"
    },
    "slideshow": {
     "slide_type": "skip"
    }
   },
   "outputs": [],
   "source": [
    "def rekognitionFace(bucket, key):\n",
    "    response = rekognition.detect_faces(Image={\n",
    "        'S3Object': {\n",
    "            'Bucket': bucket,\n",
    "            'Name': key,\n",
    "            }\n",
    "        }\n",
    "    )\n",
    "    return response"
   ]
  },
  {
   "cell_type": "code",
   "execution_count": 25,
   "metadata": {
    "nbpresent": {
     "id": "0373e7c9-7471-4e82-8bc1-4f566a286d78"
    },
    "slideshow": {
     "slide_type": "skip"
    }
   },
   "outputs": [
    {
     "name": "stdout",
     "output_type": "stream",
     "text": [
      "Response: {\n",
      "    \"FaceDetails\": [\n",
      "        {\n",
      "            \"BoundingBox\": {\n",
      "                \"Height\": 0.76106196641922,\n",
      "                \"Left\": 0.26875001192092896,\n",
      "                \"Top\": 0.10840708017349243,\n",
      "                \"Width\": 0.4300000071525574\n",
      "            },\n",
      "            \"Confidence\": 99.88834381103516,\n",
      "            \"Landmarks\": [\n",
      "                {\n",
      "                    \"Type\": \"eyeLeft\",\n",
      "                    \"X\": 0.42411622405052185,\n",
      "                    \"Y\": 0.3746492266654968\n",
      "                },\n",
      "                {\n",
      "                    \"Type\": \"eyeRight\",\n",
      "                    \"X\": 0.5723496675491333,\n",
      "                    \"Y\": 0.39993369579315186\n",
      "                },\n",
      "                {\n",
      "                    \"Type\": \"nose\",\n",
      "                    \"X\": 0.48362576961517334,\n",
      "                    \"Y\": 0.5046116709709167\n",
      "                },\n",
      "                {\n",
      "                    \"Type\": \"mouthLeft\",\n",
      "                    \"X\": 0.4044145941734314,\n",
      "                    \"Y\": 0.6943173408508301\n",
      "                },\n",
      "                {\n",
      "                    \"Type\": \"mouthRight\",\n",
      "                    \"X\": 0.5295566320419312,\n",
      "                    \"Y\": 0.7073610424995422\n",
      "                }\n",
      "            ],\n",
      "            \"Pose\": {\n",
      "                \"Pitch\": 17.385602951049805,\n",
      "                \"Roll\": 4.948449611663818,\n",
      "                \"Yaw\": -0.26715001463890076\n",
      "            },\n",
      "            \"Quality\": {\n",
      "                \"Brightness\": 36.76279067993164,\n",
      "                \"Sharpness\": 99.99880981445312\n",
      "            }\n",
      "        }\n",
      "    ],\n",
      "    \"OrientationCorrection\": \"ROTATE_0\",\n",
      "    \"ResponseMetadata\": {\n",
      "        \"HTTPHeaders\": {\n",
      "            \"connection\": \"keep-alive\",\n",
      "            \"content-length\": \"713\",\n",
      "            \"content-type\": \"application/x-amz-json-1.1\",\n",
      "            \"date\": \"Mon, 10 Sep 2018 07:31:37 GMT\",\n",
      "            \"x-amzn-requestid\": \"8cbb0ebf-b4cb-11e8-bb7d-8b556fcf17e0\"\n",
      "        },\n",
      "        \"HTTPStatusCode\": 200,\n",
      "        \"RequestId\": \"8cbb0ebf-b4cb-11e8-bb7d-8b556fcf17e0\",\n",
      "        \"RetryAttempts\": 0\n",
      "    }\n",
      "}\n"
     ]
    }
   ],
   "source": [
    "response = rekognitionFace(s3_bucket, sample_meme)\n",
    "\n",
    "#celebrities = [k[\"Name\"] for k in response[\"FaceDetails\"]]\n",
    "print(\"Response: \" + json.dumps(response, indent=4, sort_keys=True))"
   ]
  },
  {
   "cell_type": "markdown",
   "metadata": {
    "nbpresent": {
     "id": "5bf6801e-1d45-4d5e-8c91-e4b3e74daa11"
    },
    "slideshow": {
     "slide_type": "slide"
    }
   },
   "source": [
    "## Text in image"
   ]
  },
  {
   "cell_type": "code",
   "execution_count": 26,
   "metadata": {
    "nbpresent": {
     "id": "39681d6c-f985-404c-94e0-6432fe79a3c0"
    },
    "slideshow": {
     "slide_type": "fragment"
    }
   },
   "outputs": [],
   "source": [
    "def rekognitionText(bucket, key):\n",
    "    response = rekognition.detect_text(Image={\n",
    "        'S3Object': {\n",
    "            'Bucket': bucket,\n",
    "            'Name': key,\n",
    "            }\n",
    "        }\n",
    "    )\n",
    "    return response"
   ]
  },
  {
   "cell_type": "code",
   "execution_count": 27,
   "metadata": {
    "nbpresent": {
     "id": "e9f1604e-d386-4e84-85e1-c4c43fadeb95"
    },
    "slideshow": {
     "slide_type": "fragment"
    }
   },
   "outputs": [
    {
     "name": "stdout",
     "output_type": "stream",
     "text": [
      "Number of lines: 3\n",
      "Response: \"I'M PROUD OF YOU THAT MOMENT WHEN YOU DEPLOY YOUR VERY FIRST AWS LAMBDA FUNCTION USING GO\"\n"
     ]
    }
   ],
   "source": [
    "response = rekognitionText(s3_bucket, sample_meme)\n",
    "\n",
    "lines = [k[\"DetectedText\"] for k in response[\"TextDetections\"] if k['Type'] == 'LINE']\n",
    "print(\"Number of lines: {}\".format(len(lines)))\n",
    "\n",
    "text = \" \".join(lines)\n",
    "print(\"Response: \" + json.dumps(text, indent=4, sort_keys=True))"
   ]
  },
  {
   "cell_type": "markdown",
   "metadata": {
    "nbpresent": {
     "id": "44b87ed3-303c-4f7e-876d-c012bcf2c344"
    },
    "slideshow": {
     "slide_type": "slide"
    }
   },
   "source": [
    "# Working with text"
   ]
  },
  {
   "cell_type": "markdown",
   "metadata": {
    "nbpresent": {
     "id": "146cbb52-6a23-423e-a648-6b2f70a0bea4"
    },
    "slideshow": {
     "slide_type": "subslide"
    }
   },
   "source": [
    "Let's use the text extracted above to run some analysis"
   ]
  },
  {
   "cell_type": "markdown",
   "metadata": {
    "nbpresent": {
     "id": "946edcf0-c55a-457d-9dfe-24b26f904e67"
    },
    "slideshow": {
     "slide_type": "slide"
    }
   },
   "source": [
    "## Language Detection"
   ]
  },
  {
   "cell_type": "code",
   "execution_count": 10,
   "metadata": {
    "nbpresent": {
     "id": "b6ff4af3-4be1-4b06-a2be-3b4ea20cce28"
    },
    "slideshow": {
     "slide_type": "fragment"
    }
   },
   "outputs": [],
   "source": [
    "def languageDetection(text):\n",
    "    language = comprehend.detect_dominant_language(\n",
    "        Text=text\n",
    "    )['Languages'][0]['LanguageCode']\n",
    "    return language"
   ]
  },
  {
   "cell_type": "code",
   "execution_count": 11,
   "metadata": {
    "nbpresent": {
     "id": "d70cc394-2b15-47ce-acc8-b897c443d29f"
    },
    "slideshow": {
     "slide_type": "fragment"
    }
   },
   "outputs": [
    {
     "name": "stdout",
     "output_type": "stream",
     "text": [
      "Language: en\n"
     ]
    }
   ],
   "source": [
    "language = languageDetection(text)\n",
    "print(\"Language: \" + language)"
   ]
  },
  {
   "cell_type": "markdown",
   "metadata": {
    "nbpresent": {
     "id": "66680a26-bfef-4c13-9c3b-d3cf57fba58b"
    },
    "slideshow": {
     "slide_type": "slide"
    }
   },
   "source": [
    "## Sentiment Detection"
   ]
  },
  {
   "cell_type": "code",
   "execution_count": 12,
   "metadata": {
    "nbpresent": {
     "id": "eda7b082-f9ef-4573-9369-b6ccdf76233d"
    },
    "slideshow": {
     "slide_type": "fragment"
    }
   },
   "outputs": [],
   "source": [
    "def sentimentDetection(text):\n",
    "    sentiment = comprehend.detect_sentiment(\n",
    "        Text=text,\n",
    "        LanguageCode=language\n",
    "    )\n",
    "    return sentiment"
   ]
  },
  {
   "cell_type": "code",
   "execution_count": 13,
   "metadata": {
    "nbpresent": {
     "id": "d9cee83c-4d3b-4dd4-be3c-949bc5fc3fb1"
    },
    "slideshow": {
     "slide_type": "fragment"
    }
   },
   "outputs": [
    {
     "name": "stdout",
     "output_type": "stream",
     "text": [
      "Sentiment: \"POSITIVE\"\n"
     ]
    }
   ],
   "source": [
    "sentiment = sentimentDetection(text)\n",
    "print(\"Sentiment: \" + json.dumps(sentiment[\"Sentiment\"], indent=4, sort_keys=True))"
   ]
  },
  {
   "cell_type": "markdown",
   "metadata": {
    "nbpresent": {
     "id": "ec5b4b91-b9c5-45cd-9466-fb8331a4ead0"
    },
    "slideshow": {
     "slide_type": "slide"
    }
   },
   "source": [
    "## Key Phrases Detection"
   ]
  },
  {
   "cell_type": "code",
   "execution_count": 14,
   "metadata": {
    "nbpresent": {
     "id": "550e8305-f1d7-4c12-bbc8-5e07c8753cbd"
    },
    "slideshow": {
     "slide_type": "fragment"
    }
   },
   "outputs": [],
   "source": [
    "def keyPhrasesDetection(text):\n",
    "    response = comprehend.detect_key_phrases(\n",
    "        Text=text,\n",
    "        LanguageCode=language\n",
    "    )\n",
    "    key_phrases = [k[\"Text\"] for k in response[\"KeyPhrases\"] ]\n",
    "    return key_phrases"
   ]
  },
  {
   "cell_type": "code",
   "execution_count": 15,
   "metadata": {
    "nbpresent": {
     "id": "c8cdfa10-72b8-432e-a224-9035ef033c85"
    },
    "slideshow": {
     "slide_type": "fragment"
    }
   },
   "outputs": [
    {
     "name": "stdout",
     "output_type": "stream",
     "text": [
      "Key phrases: [\n",
      "    \"PROUD\",\n",
      "    \"THAT MOMENT\",\n",
      "    \"YOUR VERY FIRST AWS LAMBDA FUNCTION\"\n",
      "]\n"
     ]
    }
   ],
   "source": [
    "key_phrases = keyPhrasesDetection(text)\n",
    "print(\"Key phrases: \" + json.dumps(key_phrases, indent=4, sort_keys=True))"
   ]
  },
  {
   "cell_type": "markdown",
   "metadata": {
    "nbpresent": {
     "id": "6bde0cbc-4bf8-40bb-b714-3d31dc5a5a83"
    },
    "slideshow": {
     "slide_type": "slide"
    }
   },
   "source": [
    "## Translation"
   ]
  },
  {
   "cell_type": "code",
   "execution_count": 30,
   "metadata": {
    "nbpresent": {
     "id": "2f0fce3c-319e-4b2a-acf0-bfb73d70ee35"
    },
    "slideshow": {
     "slide_type": "fragment"
    }
   },
   "outputs": [
    {
     "name": "stdout",
     "output_type": "stream",
     "text": [
      "ICH BIN STOLZ AUF SIE, DASS MOMENT, WENN SIE IHRE ALLERERSTE AWS LAMBDA-FUNKTION MIT GO\n"
     ]
    }
   ],
   "source": [
    "result = translate.translate_text(Text=text, SourceLanguageCode=\"en\", TargetLanguageCode=\"de\")\n",
    "print(result['TranslatedText'])"
   ]
  },
  {
   "cell_type": "markdown",
   "metadata": {
    "nbpresent": {
     "id": "0d05fb18-6f1e-4e2c-943a-0afe73fdb5e1"
    },
    "slideshow": {
     "slide_type": "slide"
    }
   },
   "source": [
    "## Text-to-speech"
   ]
  },
  {
   "cell_type": "code",
   "execution_count": 33,
   "metadata": {
    "nbpresent": {
     "id": "5056af5c-f7cd-4e15-9bf7-f335ef85ec69"
    },
    "slideshow": {
     "slide_type": "fragment"
    }
   },
   "outputs": [],
   "source": [
    "response = polly.synthesize_speech(\n",
    "    OutputFormat='mp3',\n",
    "    Text=text,\n",
    "    VoiceId='Matthew'\n",
    ")"
   ]
  },
  {
   "cell_type": "code",
   "execution_count": null,
   "metadata": {
    "nbpresent": {
     "id": "ef370f1f-4481-4570-bbd7-edb909362c2a"
    },
    "slideshow": {
     "slide_type": "fragment"
    }
   },
   "outputs": [],
   "source": []
  },
  {
   "cell_type": "markdown",
   "metadata": {
    "nbpresent": {
     "id": "326a0ddf-5ad5-4673-8108-91c5368037e4"
    },
    "slideshow": {
     "slide_type": "slide"
    }
   },
   "source": [
    "# Find me on GitHub\n",
    "\n",
    "QRCode here"
   ]
  },
  {
   "cell_type": "code",
   "execution_count": null,
   "metadata": {
    "nbpresent": {
     "id": "29de724b-c4ef-45c9-a32c-aca30b1fd51d"
    },
    "slideshow": {
     "slide_type": "skip"
    }
   },
   "outputs": [],
   "source": []
  }
 ],
 "metadata": {
  "celltoolbar": "Slideshow",
  "kernelspec": {
   "display_name": "Python [default]",
   "language": "python",
   "name": "python3"
  },
  "language_info": {
   "codemirror_mode": {
    "name": "ipython",
    "version": 3
   },
   "file_extension": ".py",
   "mimetype": "text/x-python",
   "name": "python",
   "nbconvert_exporter": "python",
   "pygments_lexer": "ipython3",
   "version": "3.6.5"
  }
 },
 "nbformat": 4,
 "nbformat_minor": 2
}
