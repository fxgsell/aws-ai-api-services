{
 "cells": [
  {
   "cell_type": "code",
   "execution_count": 1,
   "metadata": {
    "slideshow": {
     "slide_type": "skip"
    }
   },
   "outputs": [],
   "source": [
    "import IPython.display as ipd\n",
    "import json"
   ]
  },
  {
   "cell_type": "markdown",
   "metadata": {
    "nbpresent": {
     "id": "3bb5c0d9-e78f-492d-a352-dbebdf2e6a50"
    },
    "slideshow": {
     "slide_type": "slide"
    }
   },
   "source": [
    "# An overview in pratice of AWS's application services for machine learning\n",
    "\n",
    "This notebook demonstrates how to use AWS's application services for machine learning tasks like image and text analysis. "
   ]
  },
  {
   "cell_type": "markdown",
   "metadata": {
    "nbpresent": {
     "id": "1b3d816d-3148-44ba-9fec-85fb55d9d1cc"
    },
    "slideshow": {
     "slide_type": "slide"
    }
   },
   "source": [
    "## Initialization\n",
    "For this demo, I've prepared images that are hosted on Amazon S3. I also need to initilize the SDK for the different services we're going to use."
   ]
  },
  {
   "cell_type": "code",
   "execution_count": 2,
   "metadata": {
    "slideshow": {
     "slide_type": "fragment"
    }
   },
   "outputs": [],
   "source": [
    "import boto3\n",
    "\n",
    "aws_region = \"us-east-1\"\n",
    "s3_bucket = \"fx-public-samples\"\n",
    "\n",
    "sample_scene = \"images/jakarta_skyline.jpg\"\n",
    "sample_meme = \"images/meme-5.jpg\"\n",
    "\n",
    "rekognition = boto3.client('rekognition', region_name=aws_region)\n",
    "translate = boto3.client('translate', region_name=aws_region)\n",
    "comprehend = boto3.client('comprehend', region_name=aws_region)\n",
    "polly = boto3.client('polly')"
   ]
  },
  {
   "cell_type": "markdown",
   "metadata": {
    "nbpresent": {
     "id": "ca69a3de-59f3-4109-af0f-b683d88ce393"
    },
    "slideshow": {
     "slide_type": "slide"
    }
   },
   "source": [
    "# A basic exemple of image analysis\n",
    "\n",
    "![alt text](https://s3.amazonaws.com/fx-public-samples/images/jakarta_skyline.jpg \"Logo Title Text 1\")"
   ]
  },
  {
   "cell_type": "markdown",
   "metadata": {
    "slideshow": {
     "slide_type": "slide"
    }
   },
   "source": [
    "# Object and scene detection"
   ]
  },
  {
   "cell_type": "code",
   "execution_count": 3,
   "metadata": {
    "nbpresent": {
     "id": "3624335a-3943-4f29-b76a-2dd104316011"
    },
    "slideshow": {
     "slide_type": "fragment"
    }
   },
   "outputs": [],
   "source": [
    "def rekognitionLabel(bucket, key, confidence=70):\n",
    "    response = rekognition.detect_labels(Image={\n",
    "        'S3Object': {\n",
    "            'Bucket': bucket,\n",
    "            'Name': key,\n",
    "            }\n",
    "        },\n",
    "        MinConfidence=confidence\n",
    "    )\n",
    "    return response"
   ]
  },
  {
   "cell_type": "code",
   "execution_count": 4,
   "metadata": {
    "nbpresent": {
     "id": "53061daf-70f3-4875-b191-00eca212ec00"
    },
    "slideshow": {
     "slide_type": "slide"
    }
   },
   "outputs": [
    {
     "name": "stdout",
     "output_type": "stream",
     "text": [
      "[\n",
      "    {\n",
      "        \"Confidence\": 98.32048034667969, \n",
      "        \"Name\": \"Building\"\n",
      "    }, \n",
      "    {\n",
      "        \"Confidence\": 98.32048034667969, \n",
      "        \"Name\": \"City\"\n",
      "    }, \n",
      "    {\n",
      "        \"Confidence\": 98.32048034667969, \n",
      "        \"Name\": \"Town\"\n",
      "    }, \n",
      "    {\n",
      "        \"Confidence\": 98.32048034667969, \n",
      "        \"Name\": \"Urban\"\n",
      "    }\n",
      "]\n"
     ]
    }
   ],
   "source": [
    "response = rekognitionLabel(s3_bucket, sample_scene, 95)\n",
    "print(json.dumps(response[\"Labels\"], indent=4, sort_keys=True))"
   ]
  },
  {
   "cell_type": "markdown",
   "metadata": {
    "slideshow": {
     "slide_type": "slide"
    }
   },
   "source": [
    "# A more complexe exemple"
   ]
  },
  {
   "cell_type": "markdown",
   "metadata": {
    "nbpresent": {
     "id": "9f8bed5c-4a18-46ce-8419-d90b1a60a781"
    },
    "slideshow": {
     "slide_type": "slide"
    }
   },
   "source": [
    "![alt text](https://s3.amazonaws.com/fx-public-samples/images/meme-5.jpg \"Logo Title Text 1\")"
   ]
  },
  {
   "cell_type": "markdown",
   "metadata": {
    "nbpresent": {
     "id": "ce419064-268f-4537-8652-0ebe97501569"
    },
    "slideshow": {
     "slide_type": "slide"
    }
   },
   "source": [
    "## Celebrity Detection"
   ]
  },
  {
   "cell_type": "code",
   "execution_count": 5,
   "metadata": {
    "nbpresent": {
     "id": "3f08a2e0-cfae-42bf-81be-6a8ba93890e0"
    },
    "slideshow": {
     "slide_type": "fragment"
    }
   },
   "outputs": [],
   "source": [
    "def rekognitionCelebrity(bucket, key):\n",
    "    response = rekognition.recognize_celebrities(Image={\n",
    "        'S3Object': {\n",
    "            'Bucket': bucket,\n",
    "            'Name': key,\n",
    "            }\n",
    "        }\n",
    "    )\n",
    "    return response"
   ]
  },
  {
   "cell_type": "code",
   "execution_count": 6,
   "metadata": {
    "nbpresent": {
     "id": "34101e62-387d-419f-a6e6-a0ccbdf341eb"
    },
    "slideshow": {
     "slide_type": "fragment"
    }
   },
   "outputs": [
    {
     "name": "stdout",
     "output_type": "stream",
     "text": [
      "Response: [\n",
      "    \"Leonardo DiCaprio\"\n",
      "]\n"
     ]
    }
   ],
   "source": [
    "response = rekognitionCelebrity(s3_bucket, sample_meme)\n",
    "\n",
    "celebrities = [k[\"Name\"] for k in response[\"CelebrityFaces\"]]\n",
    "print(\"Response: \" + json.dumps(celebrities, indent=4, sort_keys=True))"
   ]
  },
  {
   "cell_type": "markdown",
   "metadata": {
    "nbpresent": {
     "id": "5bf6801e-1d45-4d5e-8c91-e4b3e74daa11"
    },
    "slideshow": {
     "slide_type": "slide"
    }
   },
   "source": [
    "## Text in image"
   ]
  },
  {
   "cell_type": "code",
   "execution_count": 7,
   "metadata": {
    "nbpresent": {
     "id": "39681d6c-f985-404c-94e0-6432fe79a3c0"
    },
    "slideshow": {
     "slide_type": "fragment"
    }
   },
   "outputs": [],
   "source": [
    "def rekognitionText(bucket, key):\n",
    "    response = rekognition.detect_text(Image={\n",
    "        'S3Object': {\n",
    "            'Bucket': bucket,\n",
    "            'Name': key,\n",
    "            }\n",
    "        }\n",
    "    )\n",
    "    return response"
   ]
  },
  {
   "cell_type": "code",
   "execution_count": 8,
   "metadata": {
    "nbpresent": {
     "id": "e9f1604e-d386-4e84-85e1-c4c43fadeb95"
    },
    "slideshow": {
     "slide_type": "fragment"
    }
   },
   "outputs": [
    {
     "name": "stdout",
     "output_type": "stream",
     "text": [
      "Number of lines: 2\n",
      "Response: CHEERS TO ALL THOSE USING INFRASTRUCTURE AS CODE\n"
     ]
    }
   ],
   "source": [
    "response = rekognitionText(s3_bucket, sample_meme)\n",
    "\n",
    "lines = [k[\"DetectedText\"] for k in response[\"TextDetections\"] if k['Type'] == 'LINE']\n",
    "print(\"Number of lines: {}\".format(len(lines)))\n",
    "\n",
    "text = \" \".join(lines)\n",
    "print(\"Response: \" + text)"
   ]
  },
  {
   "cell_type": "markdown",
   "metadata": {
    "nbpresent": {
     "id": "44b87ed3-303c-4f7e-876d-c012bcf2c344"
    },
    "slideshow": {
     "slide_type": "slide"
    }
   },
   "source": [
    "# Working with text"
   ]
  },
  {
   "cell_type": "markdown",
   "metadata": {
    "nbpresent": {
     "id": "146cbb52-6a23-423e-a648-6b2f70a0bea4"
    },
    "slideshow": {
     "slide_type": "subslide"
    }
   },
   "source": [
    "Let's use Amazon Comprehend our natural language processing (NLP) service that uses machine learning to find insights and relationships in text."
   ]
  },
  {
   "cell_type": "markdown",
   "metadata": {
    "nbpresent": {
     "id": "946edcf0-c55a-457d-9dfe-24b26f904e67"
    },
    "slideshow": {
     "slide_type": "slide"
    }
   },
   "source": [
    "## Language Detection\n",
    "The Language Detection API automatically identifies text written in over 100 languages and returns the dominant language with a confidence score to support that a language is dominant."
   ]
  },
  {
   "cell_type": "code",
   "execution_count": 9,
   "metadata": {
    "nbpresent": {
     "id": "d70cc394-2b15-47ce-acc8-b897c443d29f"
    },
    "slideshow": {
     "slide_type": "fragment"
    }
   },
   "outputs": [
    {
     "name": "stdout",
     "output_type": "stream",
     "text": [
      "Language: {\"LanguageCode\": \"en\", \"Score\": 0.9969595670700073}\n"
     ]
    }
   ],
   "source": [
    "language = comprehend.detect_dominant_language(\n",
    "    Text=text\n",
    ")\n",
    "print(\"Language: \" + json.dumps(language['Languages'][0]))\n",
    "language_code = language['Languages'][0]['LanguageCode']"
   ]
  },
  {
   "cell_type": "markdown",
   "metadata": {
    "nbpresent": {
     "id": "66680a26-bfef-4c13-9c3b-d3cf57fba58b"
    },
    "slideshow": {
     "slide_type": "slide"
    }
   },
   "source": [
    "## Sentiment Detection\n",
    "\n",
    "The Sentiment Analysis API returns the overall sentiment of a text (Positive, Negative, Neutral, or Mixed)."
   ]
  },
  {
   "cell_type": "code",
   "execution_count": 10,
   "metadata": {
    "nbpresent": {
     "id": "d9cee83c-4d3b-4dd4-be3c-949bc5fc3fb1"
    },
    "slideshow": {
     "slide_type": "fragment"
    }
   },
   "outputs": [
    {
     "name": "stdout",
     "output_type": "stream",
     "text": [
      "Sentiment: \"POSITIVE\"\n"
     ]
    }
   ],
   "source": [
    "sentiment = comprehend.detect_sentiment(\n",
    "    Text=text,\n",
    "    LanguageCode=language_code\n",
    ")\n",
    "\n",
    "print(\"Sentiment: \" + json.dumps(sentiment[\"Sentiment\"], indent=4, sort_keys=True))"
   ]
  },
  {
   "cell_type": "markdown",
   "metadata": {
    "nbpresent": {
     "id": "ec5b4b91-b9c5-45cd-9466-fb8331a4ead0"
    },
    "slideshow": {
     "slide_type": "slide"
    }
   },
   "source": [
    "## Key Phrases Detection\n",
    "\n",
    "The Keyphrase Extraction API returns the key phrases or talking points and a confidence score to support that this is a key phrase."
   ]
  },
  {
   "cell_type": "code",
   "execution_count": 11,
   "metadata": {
    "nbpresent": {
     "id": "c8cdfa10-72b8-432e-a224-9035ef033c85"
    },
    "slideshow": {
     "slide_type": "fragment"
    }
   },
   "outputs": [
    {
     "name": "stdout",
     "output_type": "stream",
     "text": [
      "Key phrases: [\n",
      "    \"CHEERS TO ALL THOSE USING INFRASTRUCTURE\"\n",
      "]\n"
     ]
    }
   ],
   "source": [
    "response = comprehend.detect_key_phrases(\n",
    "    Text=text,\n",
    "    LanguageCode=language_code\n",
    ")\n",
    "key_phrases = [k[\"Text\"] for k in response[\"KeyPhrases\"] ]\n",
    "\n",
    "print(\"Key phrases: \" + json.dumps(key_phrases, indent=4))"
   ]
  },
  {
   "cell_type": "markdown",
   "metadata": {
    "nbpresent": {
     "id": "6bde0cbc-4bf8-40bb-b714-3d31dc5a5a83"
    },
    "slideshow": {
     "slide_type": "slide"
    }
   },
   "source": [
    "## Translation\n",
    "Amazon Translate uses deep learning models to deliver more accurate and more natural sounding translation than traditional statistical and rule-based translation algorithms."
   ]
  },
  {
   "cell_type": "code",
   "execution_count": 12,
   "metadata": {
    "nbpresent": {
     "id": "2f0fce3c-319e-4b2a-acf0-bfb73d70ee35"
    },
    "slideshow": {
     "slide_type": "fragment"
    }
   },
   "outputs": [
    {
     "name": "stdout",
     "output_type": "stream",
     "text": [
      "APPLAUDISSEMENTS À TOUS CEUX QUI UTILISENT L'INFRASTRUCTURE COMME CODE\n"
     ]
    }
   ],
   "source": [
    "result = translate.translate_text(Text=text,\n",
    "                                  SourceLanguageCode=language_code,\n",
    "                                  TargetLanguageCode=\"fr\")\n",
    "print(result['TranslatedText'])\n",
    "translated = result['TranslatedText']"
   ]
  },
  {
   "cell_type": "markdown",
   "metadata": {
    "nbpresent": {
     "id": "0d05fb18-6f1e-4e2c-943a-0afe73fdb5e1"
    },
    "slideshow": {
     "slide_type": "slide"
    }
   },
   "source": [
    "## Text-to-speech\n",
    "Amazon Polly is a Text-to-Speech service that uses advanced deep learning technologies to synthesize speech that sounds like a human voice."
   ]
  },
  {
   "cell_type": "code",
   "execution_count": 13,
   "metadata": {
    "nbpresent": {
     "id": "5056af5c-f7cd-4e15-9bf7-f335ef85ec69"
    },
    "slideshow": {
     "slide_type": "fragment"
    }
   },
   "outputs": [
    {
     "data": {
      "text/html": [
       "\n",
       "                <audio controls=\"controls\" >\n",
       "                    <source src=\"data:audio/wav;base64,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\" type=\"audio/wav\" />\n",
       "                    Your browser does not support the audio element.\n",
       "                </audio>\n",
       "              "
      ],
      "text/plain": [
       "<IPython.lib.display.Audio object>"
      ]
     },
     "execution_count": 13,
     "metadata": {},
     "output_type": "execute_result"
    }
   ],
   "source": [
    "response = polly.synthesize_speech(OutputFormat='mp3',\n",
    "                                   Text=text,\n",
    "                                   VoiceId='Matthew')\n",
    "\n",
    "audio = response['AudioStream'].read()\n",
    "ipd.Audio(audio)"
   ]
  },
  {
   "cell_type": "code",
   "execution_count": 14,
   "metadata": {},
   "outputs": [
    {
     "data": {
      "text/html": [
       "\n",
       "                <audio controls=\"controls\" >\n",
       "                    <source src=\"data:audio/wav;base64,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\" type=\"audio/wav\" />\n",
       "                    Your browser does not support the audio element.\n",
       "                </audio>\n",
       "              "
      ],
      "text/plain": [
       "<IPython.lib.display.Audio object>"
      ]
     },
     "execution_count": 14,
     "metadata": {},
     "output_type": "execute_result"
    }
   ],
   "source": [
    "response = polly.synthesize_speech(OutputFormat='mp3',\n",
    "                                   Text=translated,\n",
    "                                   VoiceId='Lea')\n",
    "\n",
    "audio = response['AudioStream'].read()\n",
    "ipd.Audio(audio)"
   ]
  },
  {
   "cell_type": "markdown",
   "metadata": {
    "nbpresent": {
     "id": "326a0ddf-5ad5-4673-8108-91c5368037e4"
    },
    "slideshow": {
     "slide_type": "slide"
    }
   },
   "source": [
    "# Find me on GitHub\n",
    "\n",
    "![alt text](https://s3.amazonaws.com/fx-public-samples/QRCode-AWS-API-Services.png \"Logo Title Text 1\")\n",
    "\n",
    "https://github.com/fxgsell/aws-ai-api-services"
   ]
  }
 ],
 "metadata": {
  "celltoolbar": "Slideshow",
  "kernelspec": {
   "display_name": "Python 2",
   "language": "python",
   "name": "python2"
  },
  "language_info": {
   "codemirror_mode": {
    "name": "ipython",
    "version": 2
   },
   "file_extension": ".py",
   "mimetype": "text/x-python",
   "name": "python",
   "nbconvert_exporter": "python",
   "pygments_lexer": "ipython2",
   "version": "2.7.15"
  }
 },
 "nbformat": 4,
 "nbformat_minor": 2
}
