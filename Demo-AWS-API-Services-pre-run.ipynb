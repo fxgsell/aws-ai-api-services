{
 "cells": [
  {
   "cell_type": "code",
   "execution_count": 1,
   "metadata": {
    "slideshow": {
     "slide_type": "skip"
    }
   },
   "outputs": [],
   "source": [
    "import IPython.display as ipd\n",
    "import json"
   ]
  },
  {
   "cell_type": "markdown",
   "metadata": {
    "nbpresent": {
     "id": "3bb5c0d9-e78f-492d-a352-dbebdf2e6a50"
    },
    "slideshow": {
     "slide_type": "slide"
    }
   },
   "source": [
    "# An overview in pratice of AWS's application services for machine learning\n",
    "\n",
    "This notebook demonstrates how to use AWS's application services for machine learning tasks like image and text analysis. "
   ]
  },
  {
   "cell_type": "markdown",
   "metadata": {
    "nbpresent": {
     "id": "1b3d816d-3148-44ba-9fec-85fb55d9d1cc"
    },
    "slideshow": {
     "slide_type": "slide"
    }
   },
   "source": [
    "## Initialization\n",
    "For this demo, I've prepared images that are hosted on Amazon S3. I also need to initilize the SDK for the different services we're going to use."
   ]
  },
  {
   "cell_type": "code",
   "execution_count": 2,
   "metadata": {
    "slideshow": {
     "slide_type": "fragment"
    }
   },
   "outputs": [],
   "source": [
    "import boto3\n",
    "\n",
    "aws_region = 'us-east-1'\n",
    "s3_bucket = \"fx-public-samples\"\n",
    "\n",
    "sample_scene = \"images/jakarta_skyline.jpg\"\n",
    "sample_meme = \"images/meme-5.jpg\"\n",
    "\n",
    "rekognition = boto3.client('rekognition', region_name=aws_region)\n",
    "translate = boto3.client('translate', region_name=aws_region)\n",
    "comprehend = boto3.client('comprehend', region_name=aws_region)\n",
    "polly = boto3.client('polly')"
   ]
  },
  {
   "cell_type": "markdown",
   "metadata": {
    "nbpresent": {
     "id": "ca69a3de-59f3-4109-af0f-b683d88ce393"
    },
    "slideshow": {
     "slide_type": "slide"
    }
   },
   "source": [
    "# A basic exemple of image analysis\n",
    "\n",
    "![alt text](https://s3.amazonaws.com/fx-public-samples/images/jakarta_skyline.jpg \"Logo Title Text 1\")"
   ]
  },
  {
   "cell_type": "markdown",
   "metadata": {
    "slideshow": {
     "slide_type": "slide"
    }
   },
   "source": [
    "# Object and scene detection"
   ]
  },
  {
   "cell_type": "code",
   "execution_count": 3,
   "metadata": {
    "nbpresent": {
     "id": "3624335a-3943-4f29-b76a-2dd104316011"
    },
    "slideshow": {
     "slide_type": "fragment"
    }
   },
   "outputs": [],
   "source": [
    "def rekognitionLabel(bucket, key, confidence=70):\n",
    "    response = rekognition.detect_labels(Image={\n",
    "        'S3Object': {\n",
    "            'Bucket': bucket,\n",
    "            'Name': key,\n",
    "            }\n",
    "        },\n",
    "        MinConfidence=confidence\n",
    "    )\n",
    "    return response"
   ]
  },
  {
   "cell_type": "code",
   "execution_count": 4,
   "metadata": {
    "nbpresent": {
     "id": "53061daf-70f3-4875-b191-00eca212ec00"
    },
    "slideshow": {
     "slide_type": "slide"
    }
   },
   "outputs": [
    {
     "name": "stdout",
     "output_type": "stream",
     "text": [
      "[\n",
      "    {\n",
      "        \"Confidence\": 98.32048034667969, \n",
      "        \"Name\": \"Building\"\n",
      "    }, \n",
      "    {\n",
      "        \"Confidence\": 98.32048034667969, \n",
      "        \"Name\": \"City\"\n",
      "    }, \n",
      "    {\n",
      "        \"Confidence\": 98.32048034667969, \n",
      "        \"Name\": \"Town\"\n",
      "    }, \n",
      "    {\n",
      "        \"Confidence\": 98.32048034667969, \n",
      "        \"Name\": \"Urban\"\n",
      "    }\n",
      "]\n"
     ]
    }
   ],
   "source": [
    "response = rekognitionLabel(s3_bucket, sample_scene, 95)\n",
    "print(json.dumps(response[\"Labels\"], indent=4, sort_keys=True))"
   ]
  },
  {
   "cell_type": "markdown",
   "metadata": {
    "slideshow": {
     "slide_type": "slide"
    }
   },
   "source": [
    "# A more complexe exemple"
   ]
  },
  {
   "cell_type": "markdown",
   "metadata": {
    "nbpresent": {
     "id": "9f8bed5c-4a18-46ce-8419-d90b1a60a781"
    },
    "slideshow": {
     "slide_type": "slide"
    }
   },
   "source": [
    "![alt text](https://s3.amazonaws.com/fx-public-samples/images/meme-5.jpg \"Logo Title Text 1\")"
   ]
  },
  {
   "cell_type": "markdown",
   "metadata": {
    "nbpresent": {
     "id": "ce419064-268f-4537-8652-0ebe97501569"
    },
    "slideshow": {
     "slide_type": "slide"
    }
   },
   "source": [
    "## Celebrity Detection"
   ]
  },
  {
   "cell_type": "code",
   "execution_count": 5,
   "metadata": {
    "nbpresent": {
     "id": "3f08a2e0-cfae-42bf-81be-6a8ba93890e0"
    },
    "slideshow": {
     "slide_type": "fragment"
    }
   },
   "outputs": [],
   "source": [
    "def rekognitionCelebrity(bucket, key):\n",
    "    response = rekognition.recognize_celebrities(Image={\n",
    "        'S3Object': {\n",
    "            'Bucket': bucket,\n",
    "            'Name': key,\n",
    "            }\n",
    "        }\n",
    "    )\n",
    "    return response"
   ]
  },
  {
   "cell_type": "code",
   "execution_count": 6,
   "metadata": {
    "nbpresent": {
     "id": "34101e62-387d-419f-a6e6-a0ccbdf341eb"
    },
    "slideshow": {
     "slide_type": "fragment"
    }
   },
   "outputs": [
    {
     "name": "stdout",
     "output_type": "stream",
     "text": [
      "Response: [\n",
      "    \"Leonardo DiCaprio\"\n",
      "]\n"
     ]
    }
   ],
   "source": [
    "response = rekognitionCelebrity(s3_bucket, sample_meme)\n",
    "\n",
    "celebrities = [k[\"Name\"] for k in response[\"CelebrityFaces\"]]\n",
    "print(\"Response: \" + json.dumps(celebrities, indent=4, sort_keys=True))"
   ]
  },
  {
   "cell_type": "markdown",
   "metadata": {
    "nbpresent": {
     "id": "5bf6801e-1d45-4d5e-8c91-e4b3e74daa11"
    },
    "slideshow": {
     "slide_type": "slide"
    }
   },
   "source": [
    "## Text in image"
   ]
  },
  {
   "cell_type": "code",
   "execution_count": 7,
   "metadata": {
    "nbpresent": {
     "id": "39681d6c-f985-404c-94e0-6432fe79a3c0"
    },
    "slideshow": {
     "slide_type": "fragment"
    }
   },
   "outputs": [],
   "source": [
    "def rekognitionText(bucket, key):\n",
    "    response = rekognition.detect_text(Image={\n",
    "        'S3Object': {\n",
    "            'Bucket': bucket,\n",
    "            'Name': key,\n",
    "            }\n",
    "        }\n",
    "    )\n",
    "    return response"
   ]
  },
  {
   "cell_type": "code",
   "execution_count": 8,
   "metadata": {
    "nbpresent": {
     "id": "e9f1604e-d386-4e84-85e1-c4c43fadeb95"
    },
    "slideshow": {
     "slide_type": "fragment"
    }
   },
   "outputs": [
    {
     "name": "stdout",
     "output_type": "stream",
     "text": [
      "Number of lines: 2\n",
      "Response: CHEERS TO ALL THOSE USING INFRASTRUCTURE AS CODE\n"
     ]
    }
   ],
   "source": [
    "response = rekognitionText(s3_bucket, sample_meme)\n",
    "\n",
    "lines = [k[\"DetectedText\"] for k in response[\"TextDetections\"] if k['Type'] == 'LINE']\n",
    "print(\"Number of lines: {}\".format(len(lines)))\n",
    "\n",
    "text = \" \".join(lines)\n",
    "print(\"Response: \" + text)"
   ]
  },
  {
   "cell_type": "markdown",
   "metadata": {
    "nbpresent": {
     "id": "44b87ed3-303c-4f7e-876d-c012bcf2c344"
    },
    "slideshow": {
     "slide_type": "slide"
    }
   },
   "source": [
    "# Working with text"
   ]
  },
  {
   "cell_type": "markdown",
   "metadata": {
    "nbpresent": {
     "id": "146cbb52-6a23-423e-a648-6b2f70a0bea4"
    },
    "slideshow": {
     "slide_type": "subslide"
    }
   },
   "source": [
    "Let's use Amazon Comprehend our natural language processing (NLP) service that uses machine learning to find insights and relationships in text."
   ]
  },
  {
   "cell_type": "markdown",
   "metadata": {
    "nbpresent": {
     "id": "946edcf0-c55a-457d-9dfe-24b26f904e67"
    },
    "slideshow": {
     "slide_type": "slide"
    }
   },
   "source": [
    "## Language Detection\n",
    "The Language Detection API automatically identifies text written in over 100 languages and returns the dominant language with a confidence score to support that a language is dominant."
   ]
  },
  {
   "cell_type": "code",
   "execution_count": 9,
   "metadata": {
    "nbpresent": {
     "id": "b6ff4af3-4be1-4b06-a2be-3b4ea20cce28"
    },
    "slideshow": {
     "slide_type": "fragment"
    }
   },
   "outputs": [],
   "source": [
    "def languageDetection(text):\n",
    "    language = comprehend.detect_dominant_language(\n",
    "        Text=text\n",
    "    )['Languages'][0]['LanguageCode']\n",
    "    return language"
   ]
  },
  {
   "cell_type": "code",
   "execution_count": 10,
   "metadata": {
    "nbpresent": {
     "id": "d70cc394-2b15-47ce-acc8-b897c443d29f"
    },
    "slideshow": {
     "slide_type": "fragment"
    }
   },
   "outputs": [
    {
     "name": "stdout",
     "output_type": "stream",
     "text": [
      "Language: en\n"
     ]
    }
   ],
   "source": [
    "language = languageDetection(text)\n",
    "print(\"Language: \" + language)"
   ]
  },
  {
   "cell_type": "markdown",
   "metadata": {
    "nbpresent": {
     "id": "66680a26-bfef-4c13-9c3b-d3cf57fba58b"
    },
    "slideshow": {
     "slide_type": "slide"
    }
   },
   "source": [
    "## Sentiment Detection\n",
    "\n",
    "The Sentiment Analysis API returns the overall sentiment of a text (Positive, Negative, Neutral, or Mixed)."
   ]
  },
  {
   "cell_type": "code",
   "execution_count": 11,
   "metadata": {
    "nbpresent": {
     "id": "eda7b082-f9ef-4573-9369-b6ccdf76233d"
    },
    "slideshow": {
     "slide_type": "fragment"
    }
   },
   "outputs": [],
   "source": [
    "def sentimentDetection(text):\n",
    "    sentiment = comprehend.detect_sentiment(\n",
    "        Text=text,\n",
    "        LanguageCode=language\n",
    "    )\n",
    "    return sentiment"
   ]
  },
  {
   "cell_type": "code",
   "execution_count": 12,
   "metadata": {
    "nbpresent": {
     "id": "d9cee83c-4d3b-4dd4-be3c-949bc5fc3fb1"
    },
    "slideshow": {
     "slide_type": "fragment"
    }
   },
   "outputs": [
    {
     "name": "stdout",
     "output_type": "stream",
     "text": [
      "Sentiment: \"POSITIVE\"\n"
     ]
    }
   ],
   "source": [
    "sentiment = sentimentDetection(\"cheers to all those using infrastructure as code\")\n",
    "print(\"Sentiment: \" + json.dumps(sentiment[\"Sentiment\"], indent=4, sort_keys=True))"
   ]
  },
  {
   "cell_type": "markdown",
   "metadata": {
    "nbpresent": {
     "id": "ec5b4b91-b9c5-45cd-9466-fb8331a4ead0"
    },
    "slideshow": {
     "slide_type": "slide"
    }
   },
   "source": [
    "## Key Phrases Detection\n",
    "\n",
    "The Keyphrase Extraction API returns the key phrases or talking points and a confidence score to support that this is a key phrase."
   ]
  },
  {
   "cell_type": "code",
   "execution_count": 13,
   "metadata": {
    "nbpresent": {
     "id": "550e8305-f1d7-4c12-bbc8-5e07c8753cbd"
    },
    "slideshow": {
     "slide_type": "fragment"
    }
   },
   "outputs": [],
   "source": [
    "def keyPhrasesDetection(text):\n",
    "    response = comprehend.detect_key_phrases(\n",
    "        Text=text,\n",
    "        LanguageCode=language\n",
    "    )\n",
    "    key_phrases = [k[\"Text\"] for k in response[\"KeyPhrases\"] ]\n",
    "    return key_phrases"
   ]
  },
  {
   "cell_type": "code",
   "execution_count": 14,
   "metadata": {
    "nbpresent": {
     "id": "c8cdfa10-72b8-432e-a224-9035ef033c85"
    },
    "slideshow": {
     "slide_type": "fragment"
    }
   },
   "outputs": [
    {
     "name": "stdout",
     "output_type": "stream",
     "text": [
      "Key phrases: [\n",
      "    \"CHEERS TO ALL THOSE USING INFRASTRUCTURE\"\n",
      "]\n"
     ]
    }
   ],
   "source": [
    "key_phrases = keyPhrasesDetection(text)\n",
    "print(\"Key phrases: \" + json.dumps(key_phrases, indent=4))"
   ]
  },
  {
   "cell_type": "markdown",
   "metadata": {
    "nbpresent": {
     "id": "6bde0cbc-4bf8-40bb-b714-3d31dc5a5a83"
    },
    "slideshow": {
     "slide_type": "slide"
    }
   },
   "source": [
    "## Translation\n",
    "Amazon Translate uses deep learning models to deliver more accurate and more natural sounding translation than traditional statistical and rule-based translation algorithms."
   ]
  },
  {
   "cell_type": "code",
   "execution_count": 15,
   "metadata": {
    "nbpresent": {
     "id": "2f0fce3c-319e-4b2a-acf0-bfb73d70ee35"
    },
    "slideshow": {
     "slide_type": "fragment"
    }
   },
   "outputs": [
    {
     "name": "stdout",
     "output_type": "stream",
     "text": [
      "APPLAUDISSEMENTS À TOUS CEUX QUI UTILISENT L'INFRASTRUCTURE COMME CODE\n"
     ]
    }
   ],
   "source": [
    "result = translate.translate_text(Text=text,\n",
    "                                  SourceLanguageCode=\"en\",\n",
    "                                  TargetLanguageCode=\"fr\")\n",
    "print(result['TranslatedText'])"
   ]
  },
  {
   "cell_type": "markdown",
   "metadata": {
    "nbpresent": {
     "id": "0d05fb18-6f1e-4e2c-943a-0afe73fdb5e1"
    },
    "slideshow": {
     "slide_type": "slide"
    }
   },
   "source": [
    "## Text-to-speech\n",
    "Amazon Polly is a Text-to-Speech service that uses advanced deep learning technologies to synthesize speech that sounds like a human voice."
   ]
  },
  {
   "cell_type": "code",
   "execution_count": 16,
   "metadata": {
    "nbpresent": {
     "id": "5056af5c-f7cd-4e15-9bf7-f335ef85ec69"
    },
    "slideshow": {
     "slide_type": "fragment"
    }
   },
   "outputs": [],
   "source": [
    "response = polly.synthesize_speech(OutputFormat='mp3',\n",
    "                                   Text=text,\n",
    "                                   VoiceId='Matthew')\n",
    "\n",
    "audio = response['AudioStream'].read()"
   ]
  },
  {
   "cell_type": "code",
   "execution_count": 17,
   "metadata": {
    "nbpresent": {
     "id": "ef370f1f-4481-4570-bbd7-edb909362c2a"
    },
    "slideshow": {
     "slide_type": "fragment"
    }
   },
   "outputs": [
    {
     "data": {
      "text/html": [
       "\n",
       "                <audio controls=\"controls\" >\n",
       "                    <source src=\"data:audio/wav;base64,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\" type=\"audio/wav\" />\n",
       "                    Your browser does not support the audio element.\n",
       "                </audio>\n",
       "              "
      ],
      "text/plain": [
       "<IPython.lib.display.Audio object>"
      ]
     },
     "execution_count": 17,
     "metadata": {},
     "output_type": "execute_result"
    }
   ],
   "source": [
    "ipd.Audio(audio)"
   ]
  },
  {
   "cell_type": "markdown",
   "metadata": {
    "nbpresent": {
     "id": "326a0ddf-5ad5-4673-8108-91c5368037e4"
    },
    "slideshow": {
     "slide_type": "slide"
    }
   },
   "source": [
    "# Find me on GitHub\n",
    "\n",
    "![alt text](https://s3.amazonaws.com/fx-public-samples/QRCode-AWS-API-Services.png \"Logo Title Text 1\")\n",
    "\n",
    "https://github.com/fxgsell/aws-ai-api-services"
   ]
  }
 ],
 "metadata": {
  "celltoolbar": "Slideshow",
  "kernelspec": {
   "display_name": "Python 2",
   "language": "python",
   "name": "python2"
  },
  "language_info": {
   "codemirror_mode": {
    "name": "ipython",
    "version": 2
   },
   "file_extension": ".py",
   "mimetype": "text/x-python",
   "name": "python",
   "nbconvert_exporter": "python",
   "pygments_lexer": "ipython2",
   "version": "2.7.15"
  }
 },
 "nbformat": 4,
 "nbformat_minor": 2
}
